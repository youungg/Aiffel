{
  "cells": [
    {
      "cell_type": "code",
      "execution_count": null,
      "metadata": {
        "id": "v0uP5XW9sdcs"
      },
      "outputs": [],
      "source": [
        "import numpy as np\n",
        "import pandas as pd\n",
        "import matplotlib.pyplot as plt\n"
      ]
    },
    {
      "cell_type": "code",
      "execution_count": null,
      "metadata": {
        "id": "v5rLRxkhvPi1"
      },
      "outputs": [],
      "source": [
        "from sklearn.datasets import load_diabetes\n",
        "\n",
        "diabetes=load_diabetes()"
      ]
    },
    {
      "cell_type": "code",
      "execution_count": null,
      "metadata": {
        "id": "CM5kQKggvf2h"
      },
      "outputs": [],
      "source": [
        "df_X = diabetes['data']\n",
        "df_y = diabetes['target']"
      ]
    },
    {
      "cell_type": "code",
      "execution_count": null,
      "metadata": {
        "id": "uh7U-uSjxCuk"
      },
      "outputs": [],
      "source": [
        "from sklearn.model_selection import train_test_split\n",
        "\n",
        "X_train,X_test, y_train, y_test = train_test_split(df_X, df_y, test_size=0.2, random_state = 100)"
      ]
    },
    {
      "cell_type": "code",
      "execution_count": null,
      "metadata": {
        "colab": {
          "base_uri": "https://localhost:8080/"
        },
        "id": "rFpJ_wItw2hY",
        "outputId": "e3ba83f5-27c8-48f5-dd53-b0117502b5eb"
      },
      "outputs": [
        {
          "name": "stdout",
          "output_type": "stream",
          "text": [
            "(353, 10) (89, 10) (353,) (89,)\n"
          ]
        }
      ],
      "source": [
        "print(X_train.shape, X_test.shape, y_train.shape, y_test.shape)\n"
      ]
    },
    {
      "cell_type": "markdown",
      "metadata": {
        "id": "RZG9zgDS2R_v"
      },
      "source": []
    },
    {
      "cell_type": "code",
      "execution_count": null,
      "metadata": {
        "id": "fYTtXDWNw94x"
      },
      "outputs": [],
      "source": [
        "W = np.random.rand(10)\n",
        "b = np.random.rand()"
      ]
    },
    {
      "cell_type": "code",
      "execution_count": null,
      "metadata": {
        "id": "J4YC7MEBy0du"
      },
      "outputs": [],
      "source": [
        "def model (W, X, b) :\n",
        "  pred = 0\n",
        "  for i in range(len(W)) :\n",
        "    pred += X[:,i] * W[i]\n",
        "  pred += b\n",
        "  return pred\n"
      ]
    },
    {
      "cell_type": "code",
      "execution_count": null,
      "metadata": {
        "id": "tYzWOXuf1GUu"
      },
      "outputs": [],
      "source": [
        "def MSE(pred , target) :\n",
        "  return ((pred - target) ** 2).mean()"
      ]
    },
    {
      "cell_type": "code",
      "execution_count": null,
      "metadata": {
        "id": "MBO7Rhd_6sRm"
      },
      "outputs": [],
      "source": [
        "def loss (W, X, b, y) :\n",
        "  y_pred = model(W, X, b)\n",
        "  return MSE(y_pred, y)"
      ]
    },
    {
      "cell_type": "code",
      "execution_count": null,
      "metadata": {
        "id": "wqELjrAX1h4L"
      },
      "outputs": [],
      "source": [
        "def gradient_MSE (W, X, b, y) :\n",
        "  num = len(y)\n",
        "\n",
        "  y_pred = model(W,X,b)\n",
        "\n",
        "  dW = 2 * X.T.dot(y_pred-y) / num\n",
        "  db = 2 * (y_pred - y).mean()\n",
        "\n",
        "  return dW, db\n"
      ]
    },
    {
      "cell_type": "code",
      "execution_count": null,
      "metadata": {
        "id": "y2xTXeWN2dQg"
      },
      "outputs": [],
      "source": [
        "lr = 0.1"
      ]
    },
    {
      "cell_type": "code",
      "execution_count": null,
      "metadata": {
        "colab": {
          "base_uri": "https://localhost:8080/"
        },
        "id": "nJJPCFfd3NAY",
        "outputId": "02d6bd85-2c20-4c6b-ce20-a66bee8b2ff3"
      },
      "outputs": [
        {
          "name": "stdout",
          "output_type": "stream",
          "text": [
            "iteration 100 : Loss : 5385.9250\n",
            "iteration 200 : Loss : 4904.6065\n",
            "iteration 300 : Loss : 4545.9618\n",
            "iteration 400 : Loss : 4275.1515\n",
            "iteration 500 : Loss : 4067.6084\n",
            "iteration 600 : Loss : 3905.9711\n",
            "iteration 700 : Loss : 3777.9378\n",
            "iteration 800 : Loss : 3674.7616\n",
            "iteration 900 : Loss : 3590.1971\n",
            "iteration 1000 : Loss : 3519.7607\n",
            "iteration 1100 : Loss : 3460.2132\n",
            "iteration 1200 : Loss : 3409.1953\n",
            "iteration 1300 : Loss : 3364.9727\n",
            "iteration 1400 : Loss : 3326.2560\n",
            "iteration 1500 : Loss : 3292.0744\n",
            "iteration 1600 : Loss : 3261.6867\n",
            "iteration 1700 : Loss : 3234.5179\n",
            "iteration 1800 : Loss : 3210.1146\n",
            "iteration 1900 : Loss : 3188.1133\n",
            "iteration 2000 : Loss : 3168.2178\n",
            "iteration 2100 : Loss : 3150.1828\n",
            "iteration 2200 : Loss : 3133.8019\n",
            "iteration 2300 : Loss : 3118.8995\n",
            "iteration 2400 : Loss : 3105.3242\n",
            "iteration 2500 : Loss : 3092.9441\n",
            "iteration 2600 : Loss : 3081.6436\n",
            "iteration 2700 : Loss : 3071.3201\n",
            "iteration 2800 : Loss : 3061.8828\n",
            "iteration 2900 : Loss : 3053.2500\n",
            "iteration 3000 : Loss : 3045.3488\n",
            "iteration 3100 : Loss : 3038.1134\n",
            "iteration 3200 : Loss : 3031.4845\n",
            "iteration 3300 : Loss : 3025.4084\n",
            "iteration 3400 : Loss : 3019.8366\n",
            "iteration 3500 : Loss : 3014.7248\n",
            "iteration 3600 : Loss : 3010.0332\n",
            "iteration 3700 : Loss : 3005.7253\n",
            "iteration 3800 : Loss : 3001.7680\n",
            "iteration 3900 : Loss : 2998.1314\n",
            "iteration 4000 : Loss : 2994.7878\n",
            "iteration 4100 : Loss : 2991.7125\n",
            "iteration 4200 : Loss : 2988.8825\n",
            "iteration 4300 : Loss : 2986.2773\n",
            "iteration 4400 : Loss : 2983.8777\n",
            "iteration 4500 : Loss : 2981.6666\n",
            "iteration 4600 : Loss : 2979.6281\n",
            "iteration 4700 : Loss : 2977.7480\n",
            "iteration 4800 : Loss : 2976.0130\n",
            "iteration 4900 : Loss : 2974.4111\n",
            "iteration 5000 : Loss : 2972.9313\n"
          ]
        }
      ],
      "source": [
        "losses = []\n",
        "\n",
        "for i in range(1,5001) :\n",
        "  dW , db = gradient_MSE(W, X_train, b, y_train)\n",
        "  W -= lr * dW\n",
        "  b -= lr * db\n",
        "  Loss = loss(W, X_train, b, y_train)\n",
        "  losses.append(Loss)\n",
        "  if i % 100 == 0 :\n",
        "    print(\"iteration %d : Loss : %0.4f\" %(i, Loss))\n"
      ]
    },
    {
      "cell_type": "code",
      "execution_count": null,
      "metadata": {
        "colab": {
          "base_uri": "https://localhost:8080/",
          "height": 448
        },
        "id": "gYDpfJiu7OsQ",
        "outputId": "13c5fc86-ab74-43b8-9b22-b94f9936ecb7"
      },
      "outputs": [
        {
          "data": {
            "text/plain": [
              "[<matplotlib.lines.Line2D at 0x7bd203a866e0>]"
            ]
          },
          "execution_count": 141,
          "metadata": {},
          "output_type": "execute_result"
        },
        {
          "data": {
            "image/png": "[encoded data removed]",
            "text/plain": [
              "<Figure size 640x480 with 1 Axes>"
            ]
          },
          "metadata": {},
          "output_type": "display_data"
        }
      ],
      "source": [
        "plt.plot(losses)"
      ]
    },
    {
      "cell_type": "code",
      "execution_count": null,
      "metadata": {
        "colab": {
          "base_uri": "https://localhost:8080/"
        },
        "id": "yjay_Cb58kwh",
        "outputId": "aadd9c35-68a4-49e8-fe5b-bba4c94c30b2"
      },
      "outputs": [
        {
          "name": "stdout",
          "output_type": "stream",
          "text": [
            "2590.310796664164\n"
          ]
        }
      ],
      "source": [
        "pred_test = model(W, X_test, b)\n",
        "loss_test = loss(W, X_test, b, y_test)\n",
        "print(loss_test)"
      ]
    },
    {
      "cell_type": "code",
      "execution_count": null,
      "metadata": {
        "colab": {
          "base_uri": "https://localhost:8080/",
          "height": 430
        },
        "id": "A6uuAoqV87nL",
        "outputId": "17c1e6a9-5535-4cfa-8e80-3bb3a1cda0d3"
      },
      "outputs": [
        {
          "data": {
            "image/png": "[encoded data removed]",
            "text/plain": [
              "<Figure size 640x480 with 1 Axes>"
            ]
          },
          "metadata": {},
          "output_type": "display_data"
        }
      ],
      "source": [
        "plt.scatter(X_test[:, 0], y_test, c ='blue')\n",
        "plt.scatter(X_test[:, 0], pred_test, c='red')\n",
        "plt.show()"
      ]
    },
    {
      "cell_type": "markdown",
      "metadata": {},
      "source": [
        "---\n",
        "# 회고\n",
        "loss 값이 너무 높다. 낮추려면 어떻게 해야할까?hmm"
      ]
    }
  ],
  "metadata": {
    "colab": {
      "provenance": []
    },
    "kernelspec": {
      "display_name": "Python 3",
      "name": "python3"
    },
    "language_info": {
      "name": "python"
    }
  },
  "nbformat": 4,
  "nbformat_minor": 0
}
